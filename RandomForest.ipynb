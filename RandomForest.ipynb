{
 "cells": [
  {
   "cell_type": "code",
   "execution_count": 1,
   "metadata": {},
   "outputs": [
    {
     "data": {
      "text/plain": [
       "'/Users/jiyeon/anaconda3/envs/datascience/bin/python'"
      ]
     },
     "execution_count": 1,
     "metadata": {},
     "output_type": "execute_result"
    }
   ],
   "source": [
    "import sys\n",
    "sys.executable"
   ]
  },
  {
   "cell_type": "markdown",
   "metadata": {},
   "source": [
    "Data Manipulation\n"
   ]
  },
  {
   "cell_type": "code",
   "execution_count": 2,
   "metadata": {},
   "outputs": [
    {
     "name": "stdout",
     "output_type": "stream",
     "text": [
      "HeartDisease      1.000000\n",
      "ST_Slope          0.550568\n",
      "ExerciseAngina    0.502934\n",
      "ChestPainType     0.460001\n",
      "Oldpeak           0.401702\n",
      "MaxHR             0.390190\n",
      "Sex               0.331767\n",
      "FastingBS         0.307575\n",
      "Age               0.299571\n",
      "Cholesterol       0.246773\n",
      "RestingBP         0.139909\n",
      "RestingECG        0.080356\n",
      "id                0.061128\n",
      "Name: HeartDisease, dtype: float64\n"
     ]
    },
    {
     "data": {
      "text/plain": [
       "RestingECG\n",
       "0    163\n",
       "2     58\n",
       "1     54\n",
       "Name: count, dtype: int64"
      ]
     },
     "execution_count": 2,
     "metadata": {},
     "output_type": "execute_result"
    }
   ],
   "source": [
    "import matplotlib.pyplot as plt\n",
    "import pandas as pd\n",
    "import seaborn as sns\n",
    "\n",
    "train = pd.read_csv(\"../../heart_train.csv\", index_col = 0)\n",
    "test = pd.read_csv(\"../../heart_test.csv\", index_col = 0)\n",
    "\n",
    "def mapping(dataframe):\n",
    "    dataframe[\"Sex\"] = dataframe[\"Sex\"].map({\"M\": 0, \"F\": 1})\n",
    "    dataframe[\"ChestPainType\"] = dataframe[\"ChestPainType\"].map({\"TA\": 0, \"ATA\": 1, \"NAP\": 2, \"ASY\": 3})\n",
    "    dataframe[\"RestingECG\"] = dataframe[\"RestingECG\"].map({\"Normal\": 0, \"ST\": 1, \"LVH\": 2})\n",
    "    dataframe[\"ExerciseAngina\"] = dataframe[\"ExerciseAngina\"].map({\"N\": 0, \"Y\": 1})\n",
    "    dataframe[\"ST_Slope\"] = dataframe[\"ST_Slope\"].map({\"Up\": 1, \"Flat\": 0, \"Down\": -1})\n",
    "\n",
    "mapping(train)\n",
    "mapping(test)\n",
    "\n",
    "print((train).corr()[\"HeartDisease\"].abs().sort_values(ascending = False))\n",
    "# \"RestingECG\" has 0.08 correlation while \"id\" has 0.06\n",
    "\n",
    "y = train[\"HeartDisease\"]\n",
    "\n",
    "train[\"RestingECG\"].value_counts()\n",
    "test[\"RestingECG\"].value_counts()"
   ]
  },
  {
   "cell_type": "markdown",
   "metadata": {},
   "source": [
    "Random Forst Set up"
   ]
  },
  {
   "cell_type": "code",
   "execution_count": 3,
   "metadata": {},
   "outputs": [],
   "source": [
    "features_columns = train.columns.values.tolist()\n",
    "features_columns.remove(\"id\")\n",
    "features_columns.remove(\"HeartDisease\")\n",
    "# features_columns.remove(\"RestingECG\")\n",
    "features_columns\n",
    "\n",
    "id = test[\"id\"]\n",
    "test = test.drop(columns = [\"id\"])\n",
    "# test = test.drop(columns = [\"RestingECG\"])\n",
    "\n",
    "features = train[features_columns]\n",
    "target = train.HeartDisease\n",
    "target\n",
    "\n",
    "from sklearn.model_selection import train_test_split\n",
    "X_train, X_test, Y_train, Y_test = train_test_split(features, target, test_size=0.20, random_state=13981318)"
   ]
  },
  {
   "cell_type": "markdown",
   "metadata": {},
   "source": [
    "Training"
   ]
  },
  {
   "cell_type": "code",
   "execution_count": 4,
   "metadata": {},
   "outputs": [
    {
     "data": {
      "text/plain": [
       "94.57"
      ]
     },
     "execution_count": 4,
     "metadata": {},
     "output_type": "execute_result"
    }
   ],
   "source": [
    "from sklearn.ensemble import RandomForestClassifier\n",
    "from sklearn.metrics import accuracy_score\n",
    "\n",
    "max_accuracy = 0\n",
    "\n",
    "for x in range(2000):\n",
    "    rf = RandomForestClassifier(random_state=x)\n",
    "    rf.fit(X_train,Y_train)\n",
    "    Y_pred_rf = rf.predict(X_test)\n",
    "    current_accuracy = round(accuracy_score(Y_pred_rf,Y_test)*100,2)\n",
    "    if(current_accuracy>max_accuracy):\n",
    "        max_accuracy = current_accuracy\n",
    "        best_x = x\n",
    "\n",
    "rf = RandomForestClassifier(random_state = best_x)\n",
    "rf.fit(X_train,Y_train)\n",
    "Y_pred_rf = rf.predict(X_test)\n",
    "\n",
    "accuracy = round(accuracy_score(Y_pred_rf,Y_test)*100,2)\n",
    "accuracy"
   ]
  },
  {
   "cell_type": "markdown",
   "metadata": {},
   "source": [
    "Testing"
   ]
  },
  {
   "cell_type": "code",
   "execution_count": 12,
   "metadata": {},
   "outputs": [],
   "source": [
    "prediction = pd.DataFrame(rf.predict(test), columns = [\"output\"])\n",
    "submission = pd.concat([id, prediction], axis = 1)\n",
    "submission.to_csv(\"RandomForest.csv\", index = False)"
   ]
  }
 ],
 "metadata": {
  "kernelspec": {
   "display_name": "datascience",
   "language": "python",
   "name": "python3"
  },
  "language_info": {
   "codemirror_mode": {
    "name": "ipython",
    "version": 3
   },
   "file_extension": ".py",
   "mimetype": "text/x-python",
   "name": "python",
   "nbconvert_exporter": "python",
   "pygments_lexer": "ipython3",
   "version": "3.11.5"
  }
 },
 "nbformat": 4,
 "nbformat_minor": 2
}
