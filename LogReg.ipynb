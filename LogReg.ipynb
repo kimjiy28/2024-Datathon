{
 "cells": [
  {
   "cell_type": "markdown",
   "metadata": {},
   "source": [
    "Data Modification"
   ]
  },
  {
   "cell_type": "code",
   "execution_count": 327,
   "metadata": {},
   "outputs": [
    {
     "data": {
      "text/plain": [
       "Sex\n",
       "0    221\n",
       "1     54\n",
       "Name: count, dtype: int64"
      ]
     },
     "execution_count": 327,
     "metadata": {},
     "output_type": "execute_result"
    }
   ],
   "source": [
    "import pandas as pd\n",
    "train = pd.read_csv(\"heart_train.csv\", index_col = 0)\n",
    "\n",
    "train[\"Sex\"] = train[\"Sex\"].map({\"M\": 0, \"F\": 1})\n",
    "train[\"ChestPainType\"] = train[\"ChestPainType\"].map({\"TA\": 1, \"ATA\": 2, \"NAP\": 3, \"ASY\": 4})\n",
    "train[\"RestingECG\"] = train[\"RestingECG\"].map({\"Normal\": 0, \"ST\": 1, \"LVH\": 2})\n",
    "train[\"ExerciseAngina\"] = train[\"ExerciseAngina\"].map({\"N\": 0, \"Y\": 1})\n",
    "train[\"ST_Slope\"] = train[\"ST_Slope\"].map({\"Up\": 1, \"Flat\": 0, \"Down\": -1})\n",
    "train\n",
    "\n",
    "features_columns = train.columns.values.tolist()\n",
    "features_columns.remove(\"id\")\n",
    "features_columns.remove(\"HeartDisease\")\n",
    "features_columns\n",
    "\n",
    "train[\"Sex\"].value_counts()\n",
    "\n",
    "test = pd.read_csv(\"heart_test.csv\", index_col = 0)\n",
    "test[\"Sex\"] = test[\"Sex\"].map({\"M\": 0, \"F\": 1})\n",
    "test[\"ChestPainType\"] = test[\"ChestPainType\"].map({\"TA\": 1, \"ATA\": 2, \"NAP\": 3, \"ASY\": 4})\n",
    "test[\"RestingECG\"] = test[\"RestingECG\"].map({\"Normal\": 0, \"ST\": 1, \"LVH\": 2})\n",
    "test[\"ExerciseAngina\"] = test[\"ExerciseAngina\"].map({\"N\": 0, \"Y\": 1})\n",
    "test[\"ST_Slope\"] = test[\"ST_Slope\"].map({\"Up\": 1, \"Flat\": 0, \"Down\": -1})\n",
    "\n",
    "id = test[\"id\"]\n",
    "test = test.drop(columns = [\"id\"])\n"
   ]
  },
  {
   "cell_type": "markdown",
   "metadata": {},
   "source": [
    "Training"
   ]
  },
  {
   "cell_type": "code",
   "execution_count": 330,
   "metadata": {},
   "outputs": [
    {
     "data": {
      "text/plain": [
       "0.861236802413273"
      ]
     },
     "execution_count": 330,
     "metadata": {},
     "output_type": "execute_result"
    }
   ],
   "source": [
    "features = train[features_columns]\n",
    "target = train.HeartDisease\n",
    "target\n",
    "\n",
    "from sklearn.model_selection import train_test_split\n",
    "features_train, features_test, target_train, target_test = train_test_split(features, target, test_size=0.20)\n",
    "\n",
    "from sklearn.linear_model import LogisticRegression\n",
    "logreg = LogisticRegression(penalty = \"l1\", C = 1, class_weight = \"balanced\", solver = \"liblinear\", max_iter = 1000, fit_intercept = True)\n",
    "logreg.fit(features_train, target_train)\n",
    "target_pred = logreg.predict(features_test)\n",
    "\n",
    "from sklearn import metrics\n",
    "cnf_matrix = metrics.confusion_matrix(target_test, target_pred)\n",
    "cnf_matrix\n",
    "\n",
    "from sklearn.metrics import balanced_accuracy_score\n",
    "accuracy = balanced_accuracy_score(target_test, target_pred)\n",
    "accuracy"
   ]
  },
  {
   "cell_type": "markdown",
   "metadata": {},
   "source": [
    "Prediction\n"
   ]
  },
  {
   "cell_type": "code",
   "execution_count": 329,
   "metadata": {},
   "outputs": [],
   "source": [
    "prediction = pd.DataFrame(logreg.predict(test), columns = [\"output\"])\n",
    "submission = pd.concat([id, prediction], axis = 1)\n",
    "submission.to_csv(\"LogReg_output.csv\", index = False)"
   ]
  }
 ],
 "metadata": {
  "kernelspec": {
   "display_name": "datascience",
   "language": "python",
   "name": "python3"
  },
  "language_info": {
   "codemirror_mode": {
    "name": "ipython",
    "version": 3
   },
   "file_extension": ".py",
   "mimetype": "text/x-python",
   "name": "python",
   "nbconvert_exporter": "python",
   "pygments_lexer": "ipython3",
   "version": "3.11.5"
  }
 },
 "nbformat": 4,
 "nbformat_minor": 2
}
